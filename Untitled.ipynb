{
 "cells": [
  {
   "cell_type": "code",
   "execution_count": null,
   "id": "a20b2cc8-99a1-4721-b094-9ab4f7dfc268",
   "metadata": {},
   "outputs": [],
   "source": [
    "KGHM_akcje = pd.read_csv('kgh_d.csv')\n",
    "KGHM_akcje.head()"
   ]
  }
 ],
 "metadata": {
  "kernelspec": {
   "display_name": "Python 3 (ipykernel)",
   "language": "python",
   "name": "python3"
  },
  "language_info": {
   "codemirror_mode": {
    "name": "ipython",
    "version": 3
   },
   "file_extension": ".py",
   "mimetype": "text/x-python",
   "name": "python",
   "nbconvert_exporter": "python",
   "pygments_lexer": "ipython3",
   "version": "3.12.5"
  }
 },
 "nbformat": 4,
 "nbformat_minor": 5
}
